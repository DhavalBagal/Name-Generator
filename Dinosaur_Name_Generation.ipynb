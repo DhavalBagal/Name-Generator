{
  "nbformat": 4,
  "nbformat_minor": 0,
  "metadata": {
    "colab": {
      "name": "Dinosaur_Name_Generation.ipynb",
      "provenance": []
    },
    "kernelspec": {
      "name": "python3",
      "display_name": "Python 3"
    },
    "accelerator": "GPU"
  },
  "cells": [
    {
      "cell_type": "code",
      "metadata": {
        "id": "d17xdp32yWtM",
        "colab_type": "code",
        "colab": {}
      },
      "source": [
        "import torch.nn as nn\n",
        "import torch\n",
        "import numpy as np\n",
        "from tensorflow.keras.utils import to_categorical\n",
        "\n",
        "PATH = '/content/dinos.txt'"
      ],
      "execution_count": 1,
      "outputs": []
    },
    {
      "cell_type": "code",
      "metadata": {
        "id": "Tj2f8WRMonuX",
        "colab_type": "code",
        "colab": {}
      },
      "source": [
        "class NameGenerator(nn.Module):\n",
        "  def __init__(self, input_size, hidden_size, output_size):\n",
        "    super(NameGenerator, self).__init__()\n",
        "    \n",
        "    self.hidden_size = hidden_size\n",
        "\n",
        "    self.reset = nn.Linear(input_size + hidden_size, hidden_size) \n",
        "    self.update = nn.Linear(input_size + hidden_size, hidden_size) \n",
        "    self.candidate = nn.Linear(input_size + hidden_size, hidden_size) \n",
        "    self.output = nn.Linear(input_size + hidden_size, output_size) \n",
        "    self.softmax = nn.Softmax(dim=1)\n",
        "\n",
        "  \n",
        "  def forward(self, input, hidden):\n",
        "    '''  \n",
        "    Arguments:\n",
        "    ----------\n",
        "        input: Tensor of dimension(m, input_size)\n",
        "        hidden: Tensor of dimension(m, hidden_size)\n",
        "    '''\n",
        "    combined1 = torch.cat((input, hidden), 1)\n",
        "    resetGate = torch.sigmoid(self.reset(combined1))\n",
        "    updateGate = torch.sigmoid(self.update(combined1))\n",
        "\n",
        "    combined2 = torch.cat((input, torch.mul(resetGate,hidden)), 1)\n",
        "\n",
        "    candidate = torch.tanh(self.candidate(combined2))\n",
        "\n",
        "    nextHidden = torch.mul(updateGate, candidate) + torch.mul((1-updateGate),hidden)\n",
        "\n",
        "    output = self.softmax(self.output(combined2))\n",
        "\n",
        "    return output, nextHidden\n",
        "\n",
        "  \n",
        "  def initHidden(self, numTrainingExamples):\n",
        "        return torch.zeros(numTrainingExamples, self.hidden_size)\n",
        "    \n",
        "\n",
        "  def prepareData(self, pathToDataFile):\n",
        "    '''  \n",
        "    Arguments:\n",
        "    ----------\n",
        "        pathToDataFile => Path to the file containing one name per line\n",
        "\n",
        "    Description:\n",
        "    ------------\n",
        "        The function converts names to integers. a-z are represented by 1-26. End of the word is represented by 0.\n",
        "        Thus, dataset is a list containing sub-lists of integers representing characters.\n",
        "        The labels are these same integers but shifted by 1 and integer 26 added at the end to denote the end.\n",
        "        Thus during training, the model will be trained to predict next character given a character.\n",
        "\n",
        "    Returns:\n",
        "    --------\n",
        "        data => Python list of sublists of integers. E.g: [[1,1,5,9,8,0,0,0], [8,9,6,3,2,1,7,6]]\n",
        "        labels => Python list of sublists of integers. E.g: [[1,5,9,8,0,0,0,0], [9,6,3,2,1,7,6,0]]\n",
        "    '''\n",
        "\n",
        "    with open(pathToDataFile, 'r') as f:\n",
        "      names = f.readlines()\n",
        "      names = [name.rstrip('\\n').lower() for name in names]\n",
        "\n",
        "    data = []\n",
        "    labels = []\n",
        "\n",
        "    # Convert characters of the names into integers\n",
        "    for name in names:\n",
        "      vector = []\n",
        "      for char in name:\n",
        "        index = ord(char)-96\n",
        "        vector.append(index)\n",
        "      data.append(vector)\n",
        "\n",
        "    for vector in data:\n",
        "      temp = vector[1:] + [0]\n",
        "      labels.append(temp)  \n",
        "\n",
        "    maxLen = max(map(len, data))\n",
        "    data = [x+[0,]*(maxLen-len(x)) for x in data]\n",
        "    labels = [x+[0,]*(maxLen-len(x)) for x in labels]  \n",
        "\n",
        "    # Convert 1D list into 2D matrix by one_hot encoding\n",
        "    data = [to_categorical(x, num_classes=27) for x in data]\n",
        "\n",
        "    data = torch.FloatTensor(data).cuda().permute(1,0,2)\n",
        "    labels = torch.LongTensor(labels).cuda().permute(1,0)\n",
        "\n",
        "    return data, labels\n",
        "\n",
        "  \n",
        "  def prepareSingleExample(self, data, label):\n",
        "    \n",
        "    # Convert 1D list into 2D matrix by one_hot encoding\n",
        "    data = [to_categorical(x, num_classes=27) for x in data]\n",
        "\n",
        "    # Convert python list to torch tensor\n",
        "    data = torch.FloatTensor(data) \n",
        "    #print('tetsing3', data.shape)\n",
        "\n",
        "    # Convert (Tx, input_size) shaped data matrix to (Tx, 1, input_size) matrix \n",
        "    # Convert shape (a,b) => (a,1,b)\n",
        "    data.unsqueeze_(1) \n",
        "\n",
        "    #print('tetsing2', data.shape)\n",
        "\n",
        "    label = torch.LongTensor(label)\n",
        "\n",
        "    # Add dummy dimension to 'label' vector of length 'output_size'\n",
        "    # Convert shape (b,) => (1,b)\n",
        "    #label.unsqueeze_(0)\n",
        "\n",
        "    return data, label\n"
      ],
      "execution_count": 19,
      "outputs": []
    },
    {
      "cell_type": "code",
      "metadata": {
        "id": "bvCs_a39fhuN",
        "colab_type": "code",
        "colab": {
          "base_uri": "https://localhost:8080/",
          "height": 34
        },
        "outputId": "ff1df577-611f-43d0-9d2e-efda8c375784"
      },
      "source": [
        "\n",
        "criterion = nn.CrossEntropyLoss()\n",
        "generator = NameGenerator(27,64,27).cuda()\n",
        "optimizer = torch.optim.Adam(generator.parameters())\n",
        "data, labels = generator.prepareData(PATH)\n",
        "print(data.shape, labels.shape)\n",
        "\n",
        "\n",
        "\n",
        "def train(X,Y):\n",
        "  assert(not torch.isnan(X).any()), \"X contains NaN values\"\n",
        "  hidden = generator.initHidden(X.shape[1]).cuda()\n",
        "  loss = 0\n",
        "  optimizer.zero_grad()\n",
        "\n",
        "  for i in range(X.shape[0]):\n",
        "    output, hidden = generator(X[i], hidden)\n",
        "    loss += criterion(output, Y[i])\n",
        "  loss.backward()\n",
        "\n",
        "  torch.nn.utils.clip_grad_norm_(generator.parameters(), 0.5)\n",
        "  optimizer.step()\n",
        "\n",
        "  return output, loss.item()\n",
        "\n"
      ],
      "execution_count": 24,
      "outputs": [
        {
          "output_type": "stream",
          "text": [
            "torch.Size([26, 1536, 27]) torch.Size([26, 1536])\n"
          ],
          "name": "stdout"
        }
      ]
    },
    {
      "cell_type": "code",
      "metadata": {
        "id": "Ayl4mfuhDW_d",
        "colab_type": "code",
        "colab": {
          "base_uri": "https://localhost:8080/",
          "height": 187
        },
        "outputId": "8d3244c4-fbe0-43b1-85ba-28a8e525e756"
      },
      "source": [
        "epochs = 10000\n",
        "printAfter = 1000\n",
        "learning_rate=0.1\n",
        "for i in range(epochs):\n",
        "  output, loss = train(data,labels)\n",
        "  if i%printAfter==0:\n",
        "    print(\"Epoch \"+str(i)+\": Loss:\",loss)"
      ],
      "execution_count": 25,
      "outputs": [
        {
          "output_type": "stream",
          "text": [
            "Epoch 0: Loss: 85.68583679199219\n",
            "Epoch 1000: Loss: 67.67149353027344\n",
            "Epoch 2000: Loss: 66.94041442871094\n",
            "Epoch 3000: Loss: 66.53831481933594\n",
            "Epoch 4000: Loss: 66.3301010131836\n",
            "Epoch 5000: Loss: 66.12074279785156\n",
            "Epoch 6000: Loss: 65.79103088378906\n",
            "Epoch 7000: Loss: 65.71671295166016\n",
            "Epoch 8000: Loss: 65.67354583740234\n",
            "Epoch 9000: Loss: 65.66090393066406\n"
          ],
          "name": "stdout"
        }
      ]
    },
    {
      "cell_type": "code",
      "metadata": {
        "id": "TeM-0hVgiyGw",
        "colab_type": "code",
        "colab": {
          "base_uri": "https://localhost:8080/",
          "height": 34
        },
        "outputId": "a2e75510-8f9f-48a3-d620-737f8a67a84a"
      },
      "source": [
        "def generateNewName():\n",
        "\n",
        "  hidden = generator.initHidden(1).cuda()\n",
        "\n",
        "  input = torch.zeros(1,27).cuda()\n",
        "\n",
        "  prevIdx = 0 \n",
        "  c=1\n",
        "\n",
        "  while True:\n",
        "    output, hidden = generator(input, hidden)\n",
        "    output = output.cpu().detach().numpy()\n",
        "    \n",
        "    idx = np.random.choice(list(range(27)), p=output.ravel())\n",
        "    input[0][prevIdx] = 0\n",
        "    input[0][idx] = 1\n",
        "    prevIdx = idx\n",
        "\n",
        "    if idx==0 or c>35:\n",
        "      break\n",
        "    else:\n",
        "      print(chr(idx+96), end='')\n",
        "      c+=1\n",
        "\n",
        "generateNewName()"
      ],
      "execution_count": 34,
      "outputs": [
        {
          "output_type": "stream",
          "text": [
            "arasaurus"
          ],
          "name": "stdout"
        }
      ]
    },
    {
      "cell_type": "code",
      "metadata": {
        "id": "jqqgPXLfzsCB",
        "colab_type": "code",
        "colab": {
          "base_uri": "https://localhost:8080/",
          "height": 71
        },
        "outputId": "f59f3cad-48ab-42ab-a6b0-7c82307a5ee0"
      },
      "source": [
        "torch.save(generator, '/content/myModel.pt')"
      ],
      "execution_count": 5,
      "outputs": [
        {
          "output_type": "stream",
          "text": [
            "/usr/local/lib/python3.6/dist-packages/torch/serialization.py:402: UserWarning: Couldn't retrieve source code for container of type NameGenerator. It won't be checked for correctness upon loading.\n",
            "  \"type \" + obj.__name__ + \". It won't be checked \"\n"
          ],
          "name": "stderr"
        }
      ]
    },
    {
      "cell_type": "code",
      "metadata": {
        "id": "JSTTxIxuiBTT",
        "colab_type": "code",
        "colab": {}
      },
      "source": [
        "gen = torch.load('/content/myModel.pt')"
      ],
      "execution_count": null,
      "outputs": []
    },
    {
      "cell_type": "code",
      "metadata": {
        "id": "NVgja-dfisdQ",
        "colab_type": "code",
        "colab": {}
      },
      "source": [
        ""
      ],
      "execution_count": null,
      "outputs": []
    }
  ]
}